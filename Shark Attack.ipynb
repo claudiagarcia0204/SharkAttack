{
 "cells": [
  {
   "cell_type": "markdown",
   "id": "5432d834",
   "metadata": {},
   "source": [
    "# Projeto Shark Attack"
   ]
  },
  {
   "cell_type": "markdown",
   "id": "a8b5d2f5",
   "metadata": {},
   "source": [
    "## Questão analisada: Quais tipos de atividades levam homens e mulheres a sofrerem maiores números de ataques de tubarão"
   ]
  },
  {
   "cell_type": "markdown",
   "id": "081bd71b",
   "metadata": {},
   "source": [
    "### Importação da biblioteca"
   ]
  },
  {
   "cell_type": "code",
   "execution_count": 67,
   "id": "35d3e128",
   "metadata": {
    "ExecuteTime": {
     "end_time": "2022-08-23T13:33:50.632468Z",
     "start_time": "2022-08-23T13:33:50.625471Z"
    }
   },
   "outputs": [],
   "source": [
    "import pandas as pd\n",
    "import numpy as np\n",
    "import os\n",
    "import re"
   ]
  },
  {
   "cell_type": "code",
   "execution_count": 68,
   "id": "2aab8650",
   "metadata": {
    "ExecuteTime": {
     "end_time": "2022-08-23T13:33:51.809957Z",
     "start_time": "2022-08-23T13:33:51.799963Z"
    }
   },
   "outputs": [
    {
     "data": {
      "text/plain": [
       "['.ipynb_checkpoints', 'attacks.csv']"
      ]
     },
     "execution_count": 68,
     "metadata": {},
     "output_type": "execute_result"
    }
   ],
   "source": [
    "os.listdir('data')"
   ]
  },
  {
   "cell_type": "markdown",
   "id": "ac4fc6e4",
   "metadata": {},
   "source": [
    "## Conjunto de dados"
   ]
  },
  {
   "cell_type": "code",
   "execution_count": 69,
   "id": "b50e071c",
   "metadata": {
    "ExecuteTime": {
     "end_time": "2022-08-23T13:33:53.840752Z",
     "start_time": "2022-08-23T13:33:53.478977Z"
    }
   },
   "outputs": [],
   "source": [
    "data = pd.read_csv('data/attacks.csv', encoding = 'latin-1' )"
   ]
  },
  {
   "cell_type": "code",
   "execution_count": 70,
   "id": "c120d849",
   "metadata": {
    "ExecuteTime": {
     "end_time": "2022-08-23T13:33:54.556028Z",
     "start_time": "2022-08-23T13:33:54.535040Z"
    }
   },
   "outputs": [],
   "source": [
    "#Colunas em minúsculo; com remoção de caracteres iniciais (lstrip); replace de espaçamento, pontos, etc \n",
    "\n",
    "attack_rename = {column : column.lower().lstrip().replace('_', '').replace(' ', '_').replace('.', '_').replace(':_', '_') for column in data}\n",
    "data = data.rename(attack_rename, axis = 1)"
   ]
  },
  {
   "cell_type": "code",
   "execution_count": 71,
   "id": "96ecc716",
   "metadata": {
    "ExecuteTime": {
     "end_time": "2022-08-23T13:35:13.166105Z",
     "start_time": "2022-08-23T13:35:13.095145Z"
    },
    "scrolled": true
   },
   "outputs": [
    {
     "data": {
      "text/html": [
       "<div>\n",
       "<style scoped>\n",
       "    .dataframe tbody tr th:only-of-type {\n",
       "        vertical-align: middle;\n",
       "    }\n",
       "\n",
       "    .dataframe tbody tr th {\n",
       "        vertical-align: top;\n",
       "    }\n",
       "\n",
       "    .dataframe thead th {\n",
       "        text-align: right;\n",
       "    }\n",
       "</style>\n",
       "<table border=\"1\" class=\"dataframe\">\n",
       "  <thead>\n",
       "    <tr style=\"text-align: right;\">\n",
       "      <th></th>\n",
       "      <th>case_number</th>\n",
       "      <th>date</th>\n",
       "      <th>year</th>\n",
       "      <th>type</th>\n",
       "      <th>country</th>\n",
       "      <th>area</th>\n",
       "      <th>location</th>\n",
       "      <th>activity</th>\n",
       "      <th>name</th>\n",
       "      <th>sex_</th>\n",
       "      <th>...</th>\n",
       "      <th>species_</th>\n",
       "      <th>investigator_or_source</th>\n",
       "      <th>pdf</th>\n",
       "      <th>href_formula</th>\n",
       "      <th>href</th>\n",
       "      <th>case_number_1</th>\n",
       "      <th>case_number_2</th>\n",
       "      <th>original_order</th>\n",
       "      <th>unnamed_22</th>\n",
       "      <th>unnamed_23</th>\n",
       "    </tr>\n",
       "  </thead>\n",
       "  <tbody>\n",
       "    <tr>\n",
       "      <th>0</th>\n",
       "      <td>2018.06.25</td>\n",
       "      <td>25-Jun-2018</td>\n",
       "      <td>2018.0</td>\n",
       "      <td>Boating</td>\n",
       "      <td>USA</td>\n",
       "      <td>California</td>\n",
       "      <td>Oceanside, San Diego County</td>\n",
       "      <td>Paddling</td>\n",
       "      <td>Julie Wolfe</td>\n",
       "      <td>F</td>\n",
       "      <td>...</td>\n",
       "      <td>White shark</td>\n",
       "      <td>R. Collier, GSAF</td>\n",
       "      <td>2018.06.25-Wolfe.pdf</td>\n",
       "      <td>http://sharkattackfile.net/spreadsheets/pdf_di...</td>\n",
       "      <td>http://sharkattackfile.net/spreadsheets/pdf_di...</td>\n",
       "      <td>2018.06.25</td>\n",
       "      <td>2018.06.25</td>\n",
       "      <td>6303.0</td>\n",
       "      <td>NaN</td>\n",
       "      <td>NaN</td>\n",
       "    </tr>\n",
       "    <tr>\n",
       "      <th>1</th>\n",
       "      <td>2018.06.18</td>\n",
       "      <td>18-Jun-2018</td>\n",
       "      <td>2018.0</td>\n",
       "      <td>Unprovoked</td>\n",
       "      <td>USA</td>\n",
       "      <td>Georgia</td>\n",
       "      <td>St. Simon Island, Glynn County</td>\n",
       "      <td>Standing</td>\n",
       "      <td>Adyson McNeely</td>\n",
       "      <td>F</td>\n",
       "      <td>...</td>\n",
       "      <td>NaN</td>\n",
       "      <td>K.McMurray, TrackingSharks.com</td>\n",
       "      <td>2018.06.18-McNeely.pdf</td>\n",
       "      <td>http://sharkattackfile.net/spreadsheets/pdf_di...</td>\n",
       "      <td>http://sharkattackfile.net/spreadsheets/pdf_di...</td>\n",
       "      <td>2018.06.18</td>\n",
       "      <td>2018.06.18</td>\n",
       "      <td>6302.0</td>\n",
       "      <td>NaN</td>\n",
       "      <td>NaN</td>\n",
       "    </tr>\n",
       "    <tr>\n",
       "      <th>2</th>\n",
       "      <td>2018.06.09</td>\n",
       "      <td>09-Jun-2018</td>\n",
       "      <td>2018.0</td>\n",
       "      <td>Invalid</td>\n",
       "      <td>USA</td>\n",
       "      <td>Hawaii</td>\n",
       "      <td>Habush, Oahu</td>\n",
       "      <td>Surfing</td>\n",
       "      <td>John Denges</td>\n",
       "      <td>M</td>\n",
       "      <td>...</td>\n",
       "      <td>NaN</td>\n",
       "      <td>K.McMurray, TrackingSharks.com</td>\n",
       "      <td>2018.06.09-Denges.pdf</td>\n",
       "      <td>http://sharkattackfile.net/spreadsheets/pdf_di...</td>\n",
       "      <td>http://sharkattackfile.net/spreadsheets/pdf_di...</td>\n",
       "      <td>2018.06.09</td>\n",
       "      <td>2018.06.09</td>\n",
       "      <td>6301.0</td>\n",
       "      <td>NaN</td>\n",
       "      <td>NaN</td>\n",
       "    </tr>\n",
       "    <tr>\n",
       "      <th>3</th>\n",
       "      <td>2018.06.08</td>\n",
       "      <td>08-Jun-2018</td>\n",
       "      <td>2018.0</td>\n",
       "      <td>Unprovoked</td>\n",
       "      <td>AUSTRALIA</td>\n",
       "      <td>New South Wales</td>\n",
       "      <td>Arrawarra Headland</td>\n",
       "      <td>Surfing</td>\n",
       "      <td>male</td>\n",
       "      <td>M</td>\n",
       "      <td>...</td>\n",
       "      <td>2 m shark</td>\n",
       "      <td>B. Myatt, GSAF</td>\n",
       "      <td>2018.06.08-Arrawarra.pdf</td>\n",
       "      <td>http://sharkattackfile.net/spreadsheets/pdf_di...</td>\n",
       "      <td>http://sharkattackfile.net/spreadsheets/pdf_di...</td>\n",
       "      <td>2018.06.08</td>\n",
       "      <td>2018.06.08</td>\n",
       "      <td>6300.0</td>\n",
       "      <td>NaN</td>\n",
       "      <td>NaN</td>\n",
       "    </tr>\n",
       "    <tr>\n",
       "      <th>4</th>\n",
       "      <td>2018.06.04</td>\n",
       "      <td>04-Jun-2018</td>\n",
       "      <td>2018.0</td>\n",
       "      <td>Provoked</td>\n",
       "      <td>MEXICO</td>\n",
       "      <td>Colima</td>\n",
       "      <td>La Ticla</td>\n",
       "      <td>Free diving</td>\n",
       "      <td>Gustavo Ramos</td>\n",
       "      <td>M</td>\n",
       "      <td>...</td>\n",
       "      <td>Tiger shark, 3m</td>\n",
       "      <td>A .Kipper</td>\n",
       "      <td>2018.06.04-Ramos.pdf</td>\n",
       "      <td>http://sharkattackfile.net/spreadsheets/pdf_di...</td>\n",
       "      <td>http://sharkattackfile.net/spreadsheets/pdf_di...</td>\n",
       "      <td>2018.06.04</td>\n",
       "      <td>2018.06.04</td>\n",
       "      <td>6299.0</td>\n",
       "      <td>NaN</td>\n",
       "      <td>NaN</td>\n",
       "    </tr>\n",
       "  </tbody>\n",
       "</table>\n",
       "<p>5 rows × 24 columns</p>\n",
       "</div>"
      ],
      "text/plain": [
       "  case_number         date    year        type    country             area  \\\n",
       "0  2018.06.25  25-Jun-2018  2018.0     Boating        USA       California   \n",
       "1  2018.06.18  18-Jun-2018  2018.0  Unprovoked        USA          Georgia   \n",
       "2  2018.06.09  09-Jun-2018  2018.0     Invalid        USA           Hawaii   \n",
       "3  2018.06.08  08-Jun-2018  2018.0  Unprovoked  AUSTRALIA  New South Wales   \n",
       "4  2018.06.04  04-Jun-2018  2018.0    Provoked     MEXICO           Colima   \n",
       "\n",
       "                         location     activity             name sex_  ...  \\\n",
       "0     Oceanside, San Diego County     Paddling      Julie Wolfe    F  ...   \n",
       "1  St. Simon Island, Glynn County     Standing  Adyson McNeely     F  ...   \n",
       "2                    Habush, Oahu      Surfing      John Denges    M  ...   \n",
       "3              Arrawarra Headland      Surfing             male    M  ...   \n",
       "4                        La Ticla  Free diving   Gustavo Ramos     M  ...   \n",
       "\n",
       "          species_          investigator_or_source                       pdf  \\\n",
       "0      White shark                R. Collier, GSAF      2018.06.25-Wolfe.pdf   \n",
       "1              NaN  K.McMurray, TrackingSharks.com    2018.06.18-McNeely.pdf   \n",
       "2              NaN  K.McMurray, TrackingSharks.com     2018.06.09-Denges.pdf   \n",
       "3        2 m shark                  B. Myatt, GSAF  2018.06.08-Arrawarra.pdf   \n",
       "4  Tiger shark, 3m                       A .Kipper      2018.06.04-Ramos.pdf   \n",
       "\n",
       "                                        href_formula  \\\n",
       "0  http://sharkattackfile.net/spreadsheets/pdf_di...   \n",
       "1  http://sharkattackfile.net/spreadsheets/pdf_di...   \n",
       "2  http://sharkattackfile.net/spreadsheets/pdf_di...   \n",
       "3  http://sharkattackfile.net/spreadsheets/pdf_di...   \n",
       "4  http://sharkattackfile.net/spreadsheets/pdf_di...   \n",
       "\n",
       "                                                href case_number_1  \\\n",
       "0  http://sharkattackfile.net/spreadsheets/pdf_di...    2018.06.25   \n",
       "1  http://sharkattackfile.net/spreadsheets/pdf_di...    2018.06.18   \n",
       "2  http://sharkattackfile.net/spreadsheets/pdf_di...    2018.06.09   \n",
       "3  http://sharkattackfile.net/spreadsheets/pdf_di...    2018.06.08   \n",
       "4  http://sharkattackfile.net/spreadsheets/pdf_di...    2018.06.04   \n",
       "\n",
       "  case_number_2 original_order unnamed_22 unnamed_23  \n",
       "0    2018.06.25         6303.0        NaN        NaN  \n",
       "1    2018.06.18         6302.0        NaN        NaN  \n",
       "2    2018.06.09         6301.0        NaN        NaN  \n",
       "3    2018.06.08         6300.0        NaN        NaN  \n",
       "4    2018.06.04         6299.0        NaN        NaN  \n",
       "\n",
       "[5 rows x 24 columns]"
      ]
     },
     "execution_count": 71,
     "metadata": {},
     "output_type": "execute_result"
    }
   ],
   "source": [
    "data.head(5)"
   ]
  },
  {
   "cell_type": "code",
   "execution_count": 72,
   "id": "38db0526",
   "metadata": {
    "ExecuteTime": {
     "end_time": "2022-08-23T13:35:15.839553Z",
     "start_time": "2022-08-23T13:35:15.831557Z"
    }
   },
   "outputs": [
    {
     "data": {
      "text/plain": [
       "(25723, 24)"
      ]
     },
     "execution_count": 72,
     "metadata": {},
     "output_type": "execute_result"
    }
   ],
   "source": [
    "data.shape"
   ]
  },
  {
   "cell_type": "code",
   "execution_count": 75,
   "id": "b88ac559",
   "metadata": {
    "ExecuteTime": {
     "end_time": "2022-08-23T13:35:26.425197Z",
     "start_time": "2022-08-23T13:35:26.262909Z"
    }
   },
   "outputs": [
    {
     "data": {
      "text/plain": [
       "case_number               17021\n",
       "date                      19421\n",
       "year                      19423\n",
       "type                      19425\n",
       "country                   19471\n",
       "area                      19876\n",
       "location                  19961\n",
       "activity                  19965\n",
       "name                      19631\n",
       "sex_                      19986\n",
       "age                       22252\n",
       "injury                    19449\n",
       "fatal_(y/n)               19960\n",
       "time                      22775\n",
       "species_                  22259\n",
       "investigator_or_source    19438\n",
       "pdf                       19421\n",
       "href_formula              19422\n",
       "href                      19421\n",
       "case_number_1             19421\n",
       "case_number_2             19421\n",
       "original_order            19414\n",
       "unnamed_22                25722\n",
       "unnamed_23                25721\n",
       "dtype: int64"
      ]
     },
     "execution_count": 75,
     "metadata": {},
     "output_type": "execute_result"
    }
   ],
   "source": [
    "data.isnull().sum()"
   ]
  },
  {
   "cell_type": "markdown",
   "id": "d245ef70",
   "metadata": {},
   "source": [
    "# Removendo Duplicatas"
   ]
  },
  {
   "cell_type": "code",
   "execution_count": 76,
   "id": "de1beec5",
   "metadata": {
    "ExecuteTime": {
     "end_time": "2022-08-23T13:35:29.230780Z",
     "start_time": "2022-08-23T13:35:29.054890Z"
    }
   },
   "outputs": [
    {
     "data": {
      "text/plain": [
       "0.325176446344856"
      ]
     },
     "execution_count": 76,
     "metadata": {},
     "output_type": "execute_result"
    }
   ],
   "source": [
    "sum(~data.duplicated())/sum(data.duplicated())"
   ]
  },
  {
   "cell_type": "code",
   "execution_count": 77,
   "id": "de3392b5",
   "metadata": {
    "ExecuteTime": {
     "end_time": "2022-08-23T13:36:29.756831Z",
     "start_time": "2022-08-23T13:36:29.626908Z"
    }
   },
   "outputs": [],
   "source": [
    "data = data.loc[~data.duplicated(),]"
   ]
  },
  {
   "cell_type": "code",
   "execution_count": 78,
   "id": "f32ad4ec",
   "metadata": {
    "ExecuteTime": {
     "end_time": "2022-08-23T13:36:30.869186Z",
     "start_time": "2022-08-23T13:36:30.798234Z"
    }
   },
   "outputs": [
    {
     "data": {
      "text/plain": [
       "0"
      ]
     },
     "execution_count": 78,
     "metadata": {},
     "output_type": "execute_result"
    }
   ],
   "source": [
    "data.duplicated().sum()"
   ]
  },
  {
   "cell_type": "markdown",
   "id": "5ccb79d6",
   "metadata": {},
   "source": [
    "# Removendo colunas"
   ]
  },
  {
   "cell_type": "code",
   "execution_count": 27,
   "id": "9b5b08a8",
   "metadata": {
    "ExecuteTime": {
     "end_time": "2022-08-23T12:11:48.771770Z",
     "start_time": "2022-08-23T12:11:48.761777Z"
    }
   },
   "outputs": [
    {
     "data": {
      "text/plain": [
       "Index(['case_number', 'date', 'year', 'type', 'country', 'area', 'location',\n",
       "       'activity', 'name', 'sex_', 'age', 'injury', 'fatal_(y/n)', 'time',\n",
       "       'species_', 'investigator_or_source', 'pdf', 'href_formula', 'href',\n",
       "       'case_number_1', 'case_number_2', 'original_order', 'unnamed_22',\n",
       "       'unnamed_23'],\n",
       "      dtype='object')"
      ]
     },
     "execution_count": 27,
     "metadata": {},
     "output_type": "execute_result"
    }
   ],
   "source": [
    "data.columns"
   ]
  },
  {
   "cell_type": "code",
   "execution_count": 28,
   "id": "7d1f2b67",
   "metadata": {
    "ExecuteTime": {
     "end_time": "2022-08-23T12:11:50.875575Z",
     "start_time": "2022-08-23T12:11:50.863582Z"
    }
   },
   "outputs": [],
   "source": [
    "data = data.drop(['case_number', 'date', 'year', 'area', 'name','injury', 'time', 'investigator_or_source', 'pdf', 'href_formula', 'href', 'case_number_1', 'case_number_2', 'original_order', 'unnamed_22','unnamed_23'], axis = 1)"
   ]
  },
  {
   "cell_type": "code",
   "execution_count": null,
   "id": "a01deef3",
   "metadata": {},
   "outputs": [],
   "source": []
  },
  {
   "cell_type": "markdown",
   "id": "ba0f9cad",
   "metadata": {
    "ExecuteTime": {
     "end_time": "2022-08-21T16:54:46.790565Z",
     "start_time": "2022-08-21T16:54:46.776010Z"
    }
   },
   "source": [
    "# Tratando valores"
   ]
  },
  {
   "cell_type": "markdown",
   "id": "938e1dce",
   "metadata": {
    "ExecuteTime": {
     "end_time": "2022-08-23T13:14:24.311852Z",
     "start_time": "2022-08-23T13:14:24.298859Z"
    }
   },
   "source": [
    "## Valores ausentes"
   ]
  },
  {
   "cell_type": "code",
   "execution_count": 29,
   "id": "494d8fa6",
   "metadata": {
    "ExecuteTime": {
     "end_time": "2022-08-23T12:11:54.698940Z",
     "start_time": "2022-08-23T12:11:54.655964Z"
    }
   },
   "outputs": [
    {
     "data": {
      "text/plain": [
       "type             14\n",
       "country          60\n",
       "location        550\n",
       "activity        554\n",
       "sex_            575\n",
       "age            2841\n",
       "fatal_(y/n)     549\n",
       "species_       2848\n",
       "dtype: int64"
      ]
     },
     "execution_count": 29,
     "metadata": {},
     "output_type": "execute_result"
    }
   ],
   "source": [
    "data.isna().sum()"
   ]
  },
  {
   "cell_type": "code",
   "execution_count": 30,
   "id": "7dbd8d97",
   "metadata": {
    "ExecuteTime": {
     "end_time": "2022-08-23T12:11:57.043577Z",
     "start_time": "2022-08-23T12:11:56.999607Z"
    }
   },
   "outputs": [
    {
     "name": "stdout",
     "output_type": "stream",
     "text": [
      "<class 'pandas.core.frame.DataFrame'>\n",
      "Int64Index: 6312 entries, 0 to 25722\n",
      "Data columns (total 8 columns):\n",
      " #   Column       Non-Null Count  Dtype \n",
      "---  ------       --------------  ----- \n",
      " 0   type         6298 non-null   object\n",
      " 1   country      6252 non-null   object\n",
      " 2   location     5762 non-null   object\n",
      " 3   activity     5758 non-null   object\n",
      " 4   sex_         5737 non-null   object\n",
      " 5   age          3471 non-null   object\n",
      " 6   fatal_(y/n)  5763 non-null   object\n",
      " 7   species_     3464 non-null   object\n",
      "dtypes: object(8)\n",
      "memory usage: 443.8+ KB\n"
     ]
    }
   ],
   "source": [
    "data.info()"
   ]
  },
  {
   "cell_type": "code",
   "execution_count": 31,
   "id": "fbec4176",
   "metadata": {
    "ExecuteTime": {
     "end_time": "2022-08-23T12:11:59.565942Z",
     "start_time": "2022-08-23T12:11:59.536962Z"
    }
   },
   "outputs": [
    {
     "data": {
      "text/html": [
       "<div>\n",
       "<style scoped>\n",
       "    .dataframe tbody tr th:only-of-type {\n",
       "        vertical-align: middle;\n",
       "    }\n",
       "\n",
       "    .dataframe tbody tr th {\n",
       "        vertical-align: top;\n",
       "    }\n",
       "\n",
       "    .dataframe thead th {\n",
       "        text-align: right;\n",
       "    }\n",
       "</style>\n",
       "<table border=\"1\" class=\"dataframe\">\n",
       "  <thead>\n",
       "    <tr style=\"text-align: right;\">\n",
       "      <th></th>\n",
       "      <th>type</th>\n",
       "      <th>country</th>\n",
       "      <th>location</th>\n",
       "      <th>activity</th>\n",
       "      <th>sex_</th>\n",
       "      <th>age</th>\n",
       "      <th>fatal_(y/n)</th>\n",
       "      <th>species_</th>\n",
       "    </tr>\n",
       "  </thead>\n",
       "  <tbody>\n",
       "    <tr>\n",
       "      <th>0</th>\n",
       "      <td>Boating</td>\n",
       "      <td>USA</td>\n",
       "      <td>Oceanside, San Diego County</td>\n",
       "      <td>Paddling</td>\n",
       "      <td>F</td>\n",
       "      <td>57</td>\n",
       "      <td>N</td>\n",
       "      <td>White shark</td>\n",
       "    </tr>\n",
       "    <tr>\n",
       "      <th>1</th>\n",
       "      <td>Unprovoked</td>\n",
       "      <td>USA</td>\n",
       "      <td>St. Simon Island, Glynn County</td>\n",
       "      <td>Standing</td>\n",
       "      <td>F</td>\n",
       "      <td>11</td>\n",
       "      <td>N</td>\n",
       "      <td>NaN</td>\n",
       "    </tr>\n",
       "    <tr>\n",
       "      <th>2</th>\n",
       "      <td>Invalid</td>\n",
       "      <td>USA</td>\n",
       "      <td>Habush, Oahu</td>\n",
       "      <td>Surfing</td>\n",
       "      <td>M</td>\n",
       "      <td>48</td>\n",
       "      <td>N</td>\n",
       "      <td>NaN</td>\n",
       "    </tr>\n",
       "    <tr>\n",
       "      <th>3</th>\n",
       "      <td>Unprovoked</td>\n",
       "      <td>AUSTRALIA</td>\n",
       "      <td>Arrawarra Headland</td>\n",
       "      <td>Surfing</td>\n",
       "      <td>M</td>\n",
       "      <td>NaN</td>\n",
       "      <td>N</td>\n",
       "      <td>2 m shark</td>\n",
       "    </tr>\n",
       "    <tr>\n",
       "      <th>4</th>\n",
       "      <td>Provoked</td>\n",
       "      <td>MEXICO</td>\n",
       "      <td>La Ticla</td>\n",
       "      <td>Free diving</td>\n",
       "      <td>M</td>\n",
       "      <td>NaN</td>\n",
       "      <td>N</td>\n",
       "      <td>Tiger shark, 3m</td>\n",
       "    </tr>\n",
       "  </tbody>\n",
       "</table>\n",
       "</div>"
      ],
      "text/plain": [
       "         type    country                        location     activity sex_  \\\n",
       "0     Boating        USA     Oceanside, San Diego County     Paddling    F   \n",
       "1  Unprovoked        USA  St. Simon Island, Glynn County     Standing    F   \n",
       "2     Invalid        USA                    Habush, Oahu      Surfing    M   \n",
       "3  Unprovoked  AUSTRALIA              Arrawarra Headland      Surfing    M   \n",
       "4    Provoked     MEXICO                        La Ticla  Free diving    M   \n",
       "\n",
       "   age fatal_(y/n)         species_  \n",
       "0   57           N      White shark  \n",
       "1   11           N              NaN  \n",
       "2   48           N              NaN  \n",
       "3  NaN           N        2 m shark  \n",
       "4  NaN           N  Tiger shark, 3m  "
      ]
     },
     "execution_count": 31,
     "metadata": {},
     "output_type": "execute_result"
    }
   ],
   "source": [
    "data.head()"
   ]
  },
  {
   "cell_type": "markdown",
   "id": "13780695",
   "metadata": {},
   "source": [
    "## Valores coluna por sexo"
   ]
  },
  {
   "cell_type": "code",
   "execution_count": 79,
   "id": "d88f3275",
   "metadata": {
    "ExecuteTime": {
     "end_time": "2022-08-23T13:42:04.907648Z",
     "start_time": "2022-08-23T13:42:04.895654Z"
    }
   },
   "outputs": [
    {
     "data": {
      "text/plain": [
       "array(['F', 'M', nan, 'M ', 'lli', 'N', '.'], dtype=object)"
      ]
     },
     "execution_count": 79,
     "metadata": {},
     "output_type": "execute_result"
    }
   ],
   "source": [
    "data['sex_'].unique()"
   ]
  },
  {
   "cell_type": "code",
   "execution_count": 80,
   "id": "28215d49",
   "metadata": {
    "ExecuteTime": {
     "end_time": "2022-08-23T13:42:05.910911Z",
     "start_time": "2022-08-23T13:42:05.900917Z"
    }
   },
   "outputs": [
    {
     "data": {
      "text/plain": [
       "6312"
      ]
     },
     "execution_count": 80,
     "metadata": {},
     "output_type": "execute_result"
    }
   ],
   "source": [
    "len(data['sex_'])"
   ]
  },
  {
   "cell_type": "code",
   "execution_count": 81,
   "id": "bb3bbc2d",
   "metadata": {
    "ExecuteTime": {
     "end_time": "2022-08-23T13:42:06.683434Z",
     "start_time": "2022-08-23T13:42:06.668445Z"
    }
   },
   "outputs": [
    {
     "data": {
      "text/plain": [
       "M      5094\n",
       "F       637\n",
       "M         2\n",
       "N         2\n",
       "lli       1\n",
       ".         1\n",
       "Name: sex_, dtype: int64"
      ]
     },
     "execution_count": 81,
     "metadata": {},
     "output_type": "execute_result"
    }
   ],
   "source": [
    "data['sex_'].value_counts()"
   ]
  },
  {
   "cell_type": "code",
   "execution_count": 82,
   "id": "8806ca2f",
   "metadata": {
    "ExecuteTime": {
     "end_time": "2022-08-23T13:42:08.424617Z",
     "start_time": "2022-08-23T13:42:08.371650Z"
    }
   },
   "outputs": [
    {
     "data": {
      "text/plain": [
       "M    5096\n",
       "F     637\n",
       "Name: sex_, dtype: int64"
      ]
     },
     "execution_count": 82,
     "metadata": {},
     "output_type": "execute_result"
    }
   ],
   "source": [
    "data.loc[data['sex_'].str.contains('M ', case=False, na=False), 'sex_'] = 'M'\n",
    "data.drop(data[data['sex_'] == 'lli'].index, inplace=True)\n",
    "data.drop(data[data['sex_'] == 'N'].index, inplace=True)\n",
    "data.drop(data[data['sex_'] == '.'].index, inplace=True)\n",
    "data['sex_'].value_counts()"
   ]
  },
  {
   "cell_type": "code",
   "execution_count": 83,
   "id": "a69e5303",
   "metadata": {
    "ExecuteTime": {
     "end_time": "2022-08-23T13:42:15.492548Z",
     "start_time": "2022-08-23T13:42:15.483557Z"
    }
   },
   "outputs": [
    {
     "data": {
      "text/plain": [
       "6308"
      ]
     },
     "execution_count": 83,
     "metadata": {},
     "output_type": "execute_result"
    }
   ],
   "source": [
    "len(data['sex_'])"
   ]
  },
  {
   "cell_type": "code",
   "execution_count": 86,
   "id": "e9a78364",
   "metadata": {
    "ExecuteTime": {
     "end_time": "2022-08-23T13:43:02.271218Z",
     "start_time": "2022-08-23T13:43:02.258227Z"
    }
   },
   "outputs": [],
   "source": [
    "data = data.dropna(subset = ['sex_'])"
   ]
  },
  {
   "cell_type": "markdown",
   "id": "8cfb9fcc",
   "metadata": {},
   "source": [
    "### Análise entre generos"
   ]
  },
  {
   "cell_type": "code",
   "execution_count": 89,
   "id": "b776f935",
   "metadata": {
    "ExecuteTime": {
     "end_time": "2022-08-23T13:44:04.222199Z",
     "start_time": "2022-08-23T13:44:04.211208Z"
    },
    "cell_style": "split"
   },
   "outputs": [
    {
     "data": {
      "text/plain": [
       "637"
      ]
     },
     "execution_count": 89,
     "metadata": {},
     "output_type": "execute_result"
    }
   ],
   "source": [
    "data_women = data.loc[data['sex_']=='F']\n",
    "len(data_women)"
   ]
  },
  {
   "cell_type": "code",
   "execution_count": 88,
   "id": "8aa9293d",
   "metadata": {
    "ExecuteTime": {
     "end_time": "2022-08-23T13:43:52.572795Z",
     "start_time": "2022-08-23T13:43:52.554807Z"
    },
    "cell_style": "split"
   },
   "outputs": [
    {
     "data": {
      "text/plain": [
       "5096"
      ]
     },
     "execution_count": 88,
     "metadata": {},
     "output_type": "execute_result"
    }
   ],
   "source": [
    "data_men = data.loc[data['sex_']=='M']\n",
    "len(data_men)"
   ]
  },
  {
   "cell_type": "markdown",
   "id": "62bc8d83",
   "metadata": {},
   "source": [
    "## Valores colunas por atividades"
   ]
  },
  {
   "cell_type": "code",
   "execution_count": 39,
   "id": "47653919",
   "metadata": {
    "ExecuteTime": {
     "end_time": "2022-08-23T12:12:15.357452Z",
     "start_time": "2022-08-23T12:12:15.345461Z"
    }
   },
   "outputs": [
    {
     "data": {
      "text/plain": [
       "393"
      ]
     },
     "execution_count": 39,
     "metadata": {},
     "output_type": "execute_result"
    }
   ],
   "source": [
    "data['activity'].isnull().sum()"
   ]
  },
  {
   "cell_type": "code",
   "execution_count": 40,
   "id": "fd671b13",
   "metadata": {
    "ExecuteTime": {
     "end_time": "2022-08-23T12:12:16.938812Z",
     "start_time": "2022-08-23T12:12:16.905828Z"
    }
   },
   "outputs": [
    {
     "data": {
      "text/plain": [
       "type            True\n",
       "country         True\n",
       "location        True\n",
       "activity        True\n",
       "sex_           False\n",
       "age             True\n",
       "fatal_(y/n)     True\n",
       "species_        True\n",
       "dtype: bool"
      ]
     },
     "execution_count": 40,
     "metadata": {},
     "output_type": "execute_result"
    }
   ],
   "source": [
    "data.isnull().any() "
   ]
  },
  {
   "cell_type": "code",
   "execution_count": 41,
   "id": "e528ea9c",
   "metadata": {
    "ExecuteTime": {
     "end_time": "2022-08-23T12:12:18.668267Z",
     "start_time": "2022-08-23T12:12:18.633291Z"
    }
   },
   "outputs": [
    {
     "data": {
      "text/plain": [
       "0       False\n",
       "1       False\n",
       "2       False\n",
       "3       False\n",
       "4       False\n",
       "        ...  \n",
       "6297    False\n",
       "6298    False\n",
       "6299    False\n",
       "6300    False\n",
       "6301    False\n",
       "Length: 5733, dtype: bool"
      ]
     },
     "execution_count": 41,
     "metadata": {},
     "output_type": "execute_result"
    }
   ],
   "source": [
    "data.isnull().all(axis=1)"
   ]
  },
  {
   "cell_type": "code",
   "execution_count": 42,
   "id": "5791fc64",
   "metadata": {
    "ExecuteTime": {
     "end_time": "2022-08-23T12:12:20.508160Z",
     "start_time": "2022-08-23T12:12:20.496167Z"
    }
   },
   "outputs": [
    {
     "data": {
      "text/plain": [
       "False    5340\n",
       "True      393\n",
       "Name: activity, dtype: int64"
      ]
     },
     "execution_count": 42,
     "metadata": {},
     "output_type": "execute_result"
    }
   ],
   "source": [
    "data['activity'].isnull().value_counts()"
   ]
  },
  {
   "cell_type": "code",
   "execution_count": 43,
   "id": "691761c4",
   "metadata": {
    "ExecuteTime": {
     "end_time": "2022-08-23T12:12:22.343698Z",
     "start_time": "2022-08-23T12:12:22.328707Z"
    }
   },
   "outputs": [
    {
     "data": {
      "text/plain": [
       "False    0.93145\n",
       "True     0.06855\n",
       "Name: activity, dtype: float64"
      ]
     },
     "execution_count": 43,
     "metadata": {},
     "output_type": "execute_result"
    }
   ],
   "source": [
    "data['activity'].isnull().value_counts(normalize=True)"
   ]
  },
  {
   "cell_type": "code",
   "execution_count": 91,
   "id": "82f06b2c",
   "metadata": {
    "ExecuteTime": {
     "end_time": "2022-08-23T14:19:30.121337Z",
     "start_time": "2022-08-23T14:19:30.112341Z"
    }
   },
   "outputs": [
    {
     "data": {
      "text/plain": [
       "(5733,)"
      ]
     },
     "execution_count": 91,
     "metadata": {},
     "output_type": "execute_result"
    }
   ],
   "source": [
    "data['activity'].shape"
   ]
  },
  {
   "cell_type": "code",
   "execution_count": 45,
   "id": "fcef880b",
   "metadata": {
    "ExecuteTime": {
     "end_time": "2022-08-23T12:12:25.403245Z",
     "start_time": "2022-08-23T12:12:25.200365Z"
    }
   },
   "outputs": [],
   "source": [
    "data.loc[data['activity'].str.contains(\"Swim\", case=False, na=False), 'activity_rename'] = 'swimming'\n",
    "data.loc[data['activity'].str.contains(\"Surf\", case=False, na=False), 'activity_rename'] = 'surfing'\n",
    "data.loc[data['activity'].str.contains(\"Fish\", case=False, na=False), 'activity_rename'] = 'fishing'\n",
    "data.loc[data['activity'].str.contains(\"Div\", case=False, na=False), 'activity_rename'] = 'diving'\n",
    "data.loc[data['activity'].str.contains(\"Bath\", case=False, na=False), 'activity_rename'] = 'bathing'\n",
    "data.loc[data['activity'].str.contains(\"stan\", case=False, na=False), 'activity_rename'] = 'standing'\n",
    "data.loc[data['activity'].str.contains(\"wadi\", case=False, na=False), 'activity_rename'] = 'wading'\n",
    "data.loc[data['activity'].str.contains(\"paddling\", case=False, na=False), 'activity_rename'] = 'rowing'"
   ]
  },
  {
   "cell_type": "code",
   "execution_count": 46,
   "id": "4fa0276a",
   "metadata": {
    "ExecuteTime": {
     "end_time": "2022-08-23T12:12:28.628416Z",
     "start_time": "2022-08-23T12:12:28.619424Z"
    }
   },
   "outputs": [],
   "source": [
    "data.loc[data['activity_rename'].isna(),'activity_rename'] = 'other'"
   ]
  },
  {
   "cell_type": "code",
   "execution_count": 47,
   "id": "e875b8d2",
   "metadata": {
    "ExecuteTime": {
     "end_time": "2022-08-23T12:12:29.888792Z",
     "start_time": "2022-08-23T12:12:29.880796Z"
    }
   },
   "outputs": [],
   "source": [
    "data_activity = data['activity_rename'].value_counts()"
   ]
  },
  {
   "cell_type": "code",
   "execution_count": 92,
   "id": "572bdd68",
   "metadata": {
    "ExecuteTime": {
     "end_time": "2022-08-23T14:20:04.127192Z",
     "start_time": "2022-08-23T14:20:04.119198Z"
    }
   },
   "outputs": [
    {
     "data": {
      "text/plain": [
       "(9,)"
      ]
     },
     "execution_count": 92,
     "metadata": {},
     "output_type": "execute_result"
    }
   ],
   "source": [
    "data_activity.shape"
   ]
  },
  {
   "cell_type": "markdown",
   "id": "eb44dfc8",
   "metadata": {},
   "source": [
    "# Contagem vitimas por atividade em percentual"
   ]
  },
  {
   "cell_type": "code",
   "execution_count": 50,
   "id": "e937690d",
   "metadata": {
    "ExecuteTime": {
     "end_time": "2022-08-23T12:12:47.082805Z",
     "start_time": "2022-08-23T12:12:47.052823Z"
    }
   },
   "outputs": [
    {
     "data": {
      "text/html": [
       "<div>\n",
       "<style scoped>\n",
       "    .dataframe tbody tr th:only-of-type {\n",
       "        vertical-align: middle;\n",
       "    }\n",
       "\n",
       "    .dataframe tbody tr th {\n",
       "        vertical-align: top;\n",
       "    }\n",
       "\n",
       "    .dataframe thead th {\n",
       "        text-align: right;\n",
       "    }\n",
       "</style>\n",
       "<table border=\"1\" class=\"dataframe\">\n",
       "  <thead>\n",
       "    <tr style=\"text-align: right;\">\n",
       "      <th></th>\n",
       "      <th>type</th>\n",
       "      <th>country</th>\n",
       "      <th>location</th>\n",
       "      <th>activity</th>\n",
       "      <th>sex_</th>\n",
       "      <th>age</th>\n",
       "      <th>fatal_(y/n)</th>\n",
       "      <th>species_</th>\n",
       "      <th>activity_rename</th>\n",
       "    </tr>\n",
       "  </thead>\n",
       "  <tbody>\n",
       "    <tr>\n",
       "      <th>0</th>\n",
       "      <td>Boating</td>\n",
       "      <td>USA</td>\n",
       "      <td>Oceanside, San Diego County</td>\n",
       "      <td>Paddling</td>\n",
       "      <td>F</td>\n",
       "      <td>57</td>\n",
       "      <td>N</td>\n",
       "      <td>White shark</td>\n",
       "      <td>rowing</td>\n",
       "    </tr>\n",
       "    <tr>\n",
       "      <th>1</th>\n",
       "      <td>Unprovoked</td>\n",
       "      <td>USA</td>\n",
       "      <td>St. Simon Island, Glynn County</td>\n",
       "      <td>Standing</td>\n",
       "      <td>F</td>\n",
       "      <td>11</td>\n",
       "      <td>N</td>\n",
       "      <td>NaN</td>\n",
       "      <td>standing</td>\n",
       "    </tr>\n",
       "    <tr>\n",
       "      <th>2</th>\n",
       "      <td>Invalid</td>\n",
       "      <td>USA</td>\n",
       "      <td>Habush, Oahu</td>\n",
       "      <td>Surfing</td>\n",
       "      <td>M</td>\n",
       "      <td>48</td>\n",
       "      <td>N</td>\n",
       "      <td>NaN</td>\n",
       "      <td>surfing</td>\n",
       "    </tr>\n",
       "    <tr>\n",
       "      <th>3</th>\n",
       "      <td>Unprovoked</td>\n",
       "      <td>AUSTRALIA</td>\n",
       "      <td>Arrawarra Headland</td>\n",
       "      <td>Surfing</td>\n",
       "      <td>M</td>\n",
       "      <td>NaN</td>\n",
       "      <td>N</td>\n",
       "      <td>2 m shark</td>\n",
       "      <td>surfing</td>\n",
       "    </tr>\n",
       "    <tr>\n",
       "      <th>4</th>\n",
       "      <td>Provoked</td>\n",
       "      <td>MEXICO</td>\n",
       "      <td>La Ticla</td>\n",
       "      <td>Free diving</td>\n",
       "      <td>M</td>\n",
       "      <td>NaN</td>\n",
       "      <td>N</td>\n",
       "      <td>Tiger shark, 3m</td>\n",
       "      <td>diving</td>\n",
       "    </tr>\n",
       "  </tbody>\n",
       "</table>\n",
       "</div>"
      ],
      "text/plain": [
       "         type    country                        location     activity sex_  \\\n",
       "0     Boating        USA     Oceanside, San Diego County     Paddling    F   \n",
       "1  Unprovoked        USA  St. Simon Island, Glynn County     Standing    F   \n",
       "2     Invalid        USA                    Habush, Oahu      Surfing    M   \n",
       "3  Unprovoked  AUSTRALIA              Arrawarra Headland      Surfing    M   \n",
       "4    Provoked     MEXICO                        La Ticla  Free diving    M   \n",
       "\n",
       "   age fatal_(y/n)         species_ activity_rename  \n",
       "0   57           N      White shark          rowing  \n",
       "1   11           N              NaN        standing  \n",
       "2   48           N              NaN         surfing  \n",
       "3  NaN           N        2 m shark         surfing  \n",
       "4  NaN           N  Tiger shark, 3m          diving  "
      ]
     },
     "execution_count": 50,
     "metadata": {},
     "output_type": "execute_result"
    }
   ],
   "source": [
    "data.head()"
   ]
  },
  {
   "cell_type": "code",
   "execution_count": 54,
   "id": "43f0e88d",
   "metadata": {
    "ExecuteTime": {
     "end_time": "2022-08-23T12:20:30.473971Z",
     "start_time": "2022-08-23T12:20:30.441991Z"
    }
   },
   "outputs": [],
   "source": [
    "analise_activity = pd.pivot_table(data, index= 'activity_rename', columns = 'sex_', values='activity', aggfunc='count')"
   ]
  },
  {
   "cell_type": "code",
   "execution_count": 98,
   "id": "94f35c26",
   "metadata": {
    "ExecuteTime": {
     "end_time": "2022-08-23T14:48:54.342373Z",
     "start_time": "2022-08-23T14:48:54.332382Z"
    }
   },
   "outputs": [],
   "source": [
    "analise_activity.loc[:,'calculo_homens']=analise_activity['M'] / analise_activity.sum(axis = 1)"
   ]
  },
  {
   "cell_type": "code",
   "execution_count": 99,
   "id": "43bc9457",
   "metadata": {
    "ExecuteTime": {
     "end_time": "2022-08-23T14:48:55.514578Z",
     "start_time": "2022-08-23T14:48:55.504583Z"
    }
   },
   "outputs": [],
   "source": [
    "analise_activity.loc[:,'calculo_mulheres']=analise_activity['F'] / analise_activity.sum(axis = 1)"
   ]
  },
  {
   "cell_type": "code",
   "execution_count": 63,
   "id": "32fa2d06",
   "metadata": {
    "ExecuteTime": {
     "end_time": "2022-08-23T12:33:11.173775Z",
     "start_time": "2022-08-23T12:33:11.151789Z"
    },
    "scrolled": true
   },
   "outputs": [
    {
     "data": {
      "text/html": [
       "<div>\n",
       "<style scoped>\n",
       "    .dataframe tbody tr th:only-of-type {\n",
       "        vertical-align: middle;\n",
       "    }\n",
       "\n",
       "    .dataframe tbody tr th {\n",
       "        vertical-align: top;\n",
       "    }\n",
       "\n",
       "    .dataframe thead th {\n",
       "        text-align: right;\n",
       "    }\n",
       "</style>\n",
       "<table border=\"1\" class=\"dataframe\">\n",
       "  <thead>\n",
       "    <tr style=\"text-align: right;\">\n",
       "      <th>sex_</th>\n",
       "      <th>F</th>\n",
       "      <th>M</th>\n",
       "      <th>calculo_homens</th>\n",
       "      <th>calculo_mulheres</th>\n",
       "    </tr>\n",
       "    <tr>\n",
       "      <th>activity_rename</th>\n",
       "      <th></th>\n",
       "      <th></th>\n",
       "      <th></th>\n",
       "      <th></th>\n",
       "    </tr>\n",
       "  </thead>\n",
       "  <tbody>\n",
       "    <tr>\n",
       "      <th>bathing</th>\n",
       "      <td>22</td>\n",
       "      <td>162</td>\n",
       "      <td>0.880435</td>\n",
       "      <td>0.118996</td>\n",
       "    </tr>\n",
       "    <tr>\n",
       "      <th>diving</th>\n",
       "      <td>32</td>\n",
       "      <td>550</td>\n",
       "      <td>0.945017</td>\n",
       "      <td>0.054894</td>\n",
       "    </tr>\n",
       "    <tr>\n",
       "      <th>fishing</th>\n",
       "      <td>27</td>\n",
       "      <td>944</td>\n",
       "      <td>0.972194</td>\n",
       "      <td>0.027779</td>\n",
       "    </tr>\n",
       "    <tr>\n",
       "      <th>other</th>\n",
       "      <td>158</td>\n",
       "      <td>881</td>\n",
       "      <td>0.847931</td>\n",
       "      <td>0.151945</td>\n",
       "    </tr>\n",
       "    <tr>\n",
       "      <th>rowing</th>\n",
       "      <td>5</td>\n",
       "      <td>16</td>\n",
       "      <td>0.761905</td>\n",
       "      <td>0.229759</td>\n",
       "    </tr>\n",
       "    <tr>\n",
       "      <th>standing</th>\n",
       "      <td>37</td>\n",
       "      <td>116</td>\n",
       "      <td>0.758170</td>\n",
       "      <td>0.240638</td>\n",
       "    </tr>\n",
       "    <tr>\n",
       "      <th>surfing</th>\n",
       "      <td>71</td>\n",
       "      <td>1082</td>\n",
       "      <td>0.938422</td>\n",
       "      <td>0.061528</td>\n",
       "    </tr>\n",
       "    <tr>\n",
       "      <th>swimming</th>\n",
       "      <td>175</td>\n",
       "      <td>885</td>\n",
       "      <td>0.834906</td>\n",
       "      <td>0.164964</td>\n",
       "    </tr>\n",
       "    <tr>\n",
       "      <th>wading</th>\n",
       "      <td>57</td>\n",
       "      <td>120</td>\n",
       "      <td>0.677966</td>\n",
       "      <td>0.320805</td>\n",
       "    </tr>\n",
       "  </tbody>\n",
       "</table>\n",
       "</div>"
      ],
      "text/plain": [
       "sex_               F     M  calculo_homens  calculo_mulheres\n",
       "activity_rename                                             \n",
       "bathing           22   162        0.880435          0.118996\n",
       "diving            32   550        0.945017          0.054894\n",
       "fishing           27   944        0.972194          0.027779\n",
       "other            158   881        0.847931          0.151945\n",
       "rowing             5    16        0.761905          0.229759\n",
       "standing          37   116        0.758170          0.240638\n",
       "surfing           71  1082        0.938422          0.061528\n",
       "swimming         175   885        0.834906          0.164964\n",
       "wading            57   120        0.677966          0.320805"
      ]
     },
     "execution_count": 63,
     "metadata": {},
     "output_type": "execute_result"
    }
   ],
   "source": [
    "analise_activity"
   ]
  },
  {
   "cell_type": "code",
   "execution_count": 97,
   "id": "9c0229a7",
   "metadata": {
    "ExecuteTime": {
     "end_time": "2022-08-23T14:34:20.973796Z",
     "start_time": "2022-08-23T14:34:20.961804Z"
    }
   },
   "outputs": [
    {
     "data": {
      "text/plain": [
       "activity_rename\n",
       "bathing     87.570078\n",
       "diving      94.339899\n",
       "fishing     97.119444\n",
       "other       84.711615\n",
       "rowing      72.864901\n",
       "standing    75.327652\n",
       "surfing     93.760902\n",
       "swimming    83.411948\n",
       "wading      67.417631\n",
       "dtype: float64"
      ]
     },
     "execution_count": 97,
     "metadata": {},
     "output_type": "execute_result"
    }
   ],
   "source": [
    "analise_activity['M'] / analise_activity.sum(axis = 1)*100 #calculo percentual por homens"
   ]
  },
  {
   "cell_type": "code",
   "execution_count": 95,
   "id": "aba02ee3",
   "metadata": {
    "ExecuteTime": {
     "end_time": "2022-08-23T14:34:02.856850Z",
     "start_time": "2022-08-23T14:34:02.842860Z"
    }
   },
   "outputs": [
    {
     "data": {
      "text/plain": [
       "activity_rename\n",
       "bathing     11.892234\n",
       "diving       5.488867\n",
       "fishing      2.777781\n",
       "other       15.192321\n",
       "rowing      22.771462\n",
       "standing    24.026927\n",
       "surfing      6.152518\n",
       "swimming    16.493888\n",
       "wading      32.023377\n",
       "dtype: float64"
      ]
     },
     "execution_count": 95,
     "metadata": {},
     "output_type": "execute_result"
    }
   ],
   "source": [
    "analise_activity['F'] / analise_activity.sum(axis = 1)*100 #calculo percentual por mulheres"
   ]
  },
  {
   "cell_type": "code",
   "execution_count": null,
   "id": "fac0a0d2",
   "metadata": {},
   "outputs": [],
   "source": []
  }
 ],
 "metadata": {
  "kernelspec": {
   "display_name": "Python 3 (ipykernel)",
   "language": "python",
   "name": "python3"
  },
  "language_info": {
   "codemirror_mode": {
    "name": "ipython",
    "version": 3
   },
   "file_extension": ".py",
   "mimetype": "text/x-python",
   "name": "python",
   "nbconvert_exporter": "python",
   "pygments_lexer": "ipython3",
   "version": "3.9.12"
  },
  "nbTranslate": {
   "displayLangs": [
    "*"
   ],
   "hotkey": "alt-t",
   "langInMainMenu": true,
   "sourceLang": "en",
   "targetLang": "fr",
   "useGoogleTranslate": true
  },
  "toc": {
   "base_numbering": 1,
   "nav_menu": {},
   "number_sections": true,
   "sideBar": true,
   "skip_h1_title": false,
   "title_cell": "Table of Contents",
   "title_sidebar": "Contents",
   "toc_cell": false,
   "toc_position": {},
   "toc_section_display": true,
   "toc_window_display": false
  },
  "varInspector": {
   "cols": {
    "lenName": 16,
    "lenType": 16,
    "lenVar": 40
   },
   "kernels_config": {
    "python": {
     "delete_cmd_postfix": "",
     "delete_cmd_prefix": "del ",
     "library": "var_list.py",
     "varRefreshCmd": "print(var_dic_list())"
    },
    "r": {
     "delete_cmd_postfix": ") ",
     "delete_cmd_prefix": "rm(",
     "library": "var_list.r",
     "varRefreshCmd": "cat(var_dic_list()) "
    }
   },
   "types_to_exclude": [
    "module",
    "function",
    "builtin_function_or_method",
    "instance",
    "_Feature"
   ],
   "window_display": false
  }
 },
 "nbformat": 4,
 "nbformat_minor": 5
}
