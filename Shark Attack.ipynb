{
 "cells": [
  {
   "cell_type": "markdown",
   "id": "5432d834",
   "metadata": {},
   "source": [
    "# Projeto Shark Attack"
   ]
  },
  {
   "cell_type": "markdown",
   "id": "a8b5d2f5",
   "metadata": {},
   "source": [
    "## Questão analisada: Quais tipos de atividades levam homens e mulheres a sofrerem maiores números de ataques de tubarão"
   ]
  },
  {
   "cell_type": "markdown",
   "id": "081bd71b",
   "metadata": {},
   "source": [
    "### Import library "
   ]
  },
  {
   "cell_type": "code",
   "execution_count": 1,
   "id": "35d3e128",
   "metadata": {
    "ExecuteTime": {
     "end_time": "2022-08-22T20:17:58.314170Z",
     "start_time": "2022-08-22T20:17:57.520213Z"
    }
   },
   "outputs": [],
   "source": [
    "import pandas as pd\n",
    "import numpy as np\n",
    "import os"
   ]
  },
  {
   "cell_type": "code",
   "execution_count": 2,
   "id": "2aab8650",
   "metadata": {
    "ExecuteTime": {
     "end_time": "2022-08-22T20:17:58.702078Z",
     "start_time": "2022-08-22T20:17:58.678092Z"
    }
   },
   "outputs": [
    {
     "data": {
      "text/plain": [
       "['.ipynb_checkpoints', 'attacks.csv']"
      ]
     },
     "execution_count": 2,
     "metadata": {},
     "output_type": "execute_result"
    }
   ],
   "source": [
    "os.listdir('data')"
   ]
  },
  {
   "cell_type": "markdown",
   "id": "ac4fc6e4",
   "metadata": {},
   "source": [
    "## Read the users dataset"
   ]
  },
  {
   "cell_type": "code",
   "execution_count": 3,
   "id": "b50e071c",
   "metadata": {
    "ExecuteTime": {
     "end_time": "2022-08-22T20:18:00.751403Z",
     "start_time": "2022-08-22T20:18:00.527537Z"
    }
   },
   "outputs": [],
   "source": [
    "data = pd.read_csv('data/attacks.csv', encoding = 'latin-1' )"
   ]
  },
  {
   "cell_type": "code",
   "execution_count": 4,
   "id": "c120d849",
   "metadata": {
    "ExecuteTime": {
     "end_time": "2022-08-22T20:18:01.529976Z",
     "start_time": "2022-08-22T20:18:01.510470Z"
    }
   },
   "outputs": [],
   "source": [
    "#Colunas em minúsculo; com remoção de caracteres iniciais (lstrip); replace de espaçamento, pontos, etc \n",
    "\n",
    "attack_rename = {column : column.lower().lstrip().replace('_', '').replace(' ', '_').replace('.', '_').replace(':_', '_') for column in data}\n",
    "data = data.rename(attack_rename, axis = 1)"
   ]
  },
  {
   "cell_type": "code",
   "execution_count": 5,
   "id": "96ecc716",
   "metadata": {
    "ExecuteTime": {
     "end_time": "2022-08-22T20:09:22.799002Z",
     "start_time": "2022-08-22T20:09:22.485047Z"
    }
   },
   "outputs": [
    {
     "data": {
      "text/html": [
       "<div>\n",
       "<style scoped>\n",
       "    .dataframe tbody tr th:only-of-type {\n",
       "        vertical-align: middle;\n",
       "    }\n",
       "\n",
       "    .dataframe tbody tr th {\n",
       "        vertical-align: top;\n",
       "    }\n",
       "\n",
       "    .dataframe thead th {\n",
       "        text-align: right;\n",
       "    }\n",
       "</style>\n",
       "<table border=\"1\" class=\"dataframe\">\n",
       "  <thead>\n",
       "    <tr style=\"text-align: right;\">\n",
       "      <th></th>\n",
       "      <th>case_number</th>\n",
       "      <th>date</th>\n",
       "      <th>year</th>\n",
       "      <th>type</th>\n",
       "      <th>country</th>\n",
       "      <th>area</th>\n",
       "      <th>location</th>\n",
       "      <th>activity</th>\n",
       "      <th>name</th>\n",
       "      <th>sex_</th>\n",
       "      <th>...</th>\n",
       "      <th>species_</th>\n",
       "      <th>investigator_or_source</th>\n",
       "      <th>pdf</th>\n",
       "      <th>href_formula</th>\n",
       "      <th>href</th>\n",
       "      <th>case_number_1</th>\n",
       "      <th>case_number_2</th>\n",
       "      <th>original_order</th>\n",
       "      <th>unnamed_22</th>\n",
       "      <th>unnamed_23</th>\n",
       "    </tr>\n",
       "  </thead>\n",
       "  <tbody>\n",
       "    <tr>\n",
       "      <th>0</th>\n",
       "      <td>2018.06.25</td>\n",
       "      <td>25-Jun-2018</td>\n",
       "      <td>2018.0</td>\n",
       "      <td>Boating</td>\n",
       "      <td>USA</td>\n",
       "      <td>California</td>\n",
       "      <td>Oceanside, San Diego County</td>\n",
       "      <td>Paddling</td>\n",
       "      <td>Julie Wolfe</td>\n",
       "      <td>F</td>\n",
       "      <td>...</td>\n",
       "      <td>White shark</td>\n",
       "      <td>R. Collier, GSAF</td>\n",
       "      <td>2018.06.25-Wolfe.pdf</td>\n",
       "      <td>http://sharkattackfile.net/spreadsheets/pdf_di...</td>\n",
       "      <td>http://sharkattackfile.net/spreadsheets/pdf_di...</td>\n",
       "      <td>2018.06.25</td>\n",
       "      <td>2018.06.25</td>\n",
       "      <td>6303.0</td>\n",
       "      <td>NaN</td>\n",
       "      <td>NaN</td>\n",
       "    </tr>\n",
       "    <tr>\n",
       "      <th>1</th>\n",
       "      <td>2018.06.18</td>\n",
       "      <td>18-Jun-2018</td>\n",
       "      <td>2018.0</td>\n",
       "      <td>Unprovoked</td>\n",
       "      <td>USA</td>\n",
       "      <td>Georgia</td>\n",
       "      <td>St. Simon Island, Glynn County</td>\n",
       "      <td>Standing</td>\n",
       "      <td>Adyson McNeely</td>\n",
       "      <td>F</td>\n",
       "      <td>...</td>\n",
       "      <td>NaN</td>\n",
       "      <td>K.McMurray, TrackingSharks.com</td>\n",
       "      <td>2018.06.18-McNeely.pdf</td>\n",
       "      <td>http://sharkattackfile.net/spreadsheets/pdf_di...</td>\n",
       "      <td>http://sharkattackfile.net/spreadsheets/pdf_di...</td>\n",
       "      <td>2018.06.18</td>\n",
       "      <td>2018.06.18</td>\n",
       "      <td>6302.0</td>\n",
       "      <td>NaN</td>\n",
       "      <td>NaN</td>\n",
       "    </tr>\n",
       "    <tr>\n",
       "      <th>2</th>\n",
       "      <td>2018.06.09</td>\n",
       "      <td>09-Jun-2018</td>\n",
       "      <td>2018.0</td>\n",
       "      <td>Invalid</td>\n",
       "      <td>USA</td>\n",
       "      <td>Hawaii</td>\n",
       "      <td>Habush, Oahu</td>\n",
       "      <td>Surfing</td>\n",
       "      <td>John Denges</td>\n",
       "      <td>M</td>\n",
       "      <td>...</td>\n",
       "      <td>NaN</td>\n",
       "      <td>K.McMurray, TrackingSharks.com</td>\n",
       "      <td>2018.06.09-Denges.pdf</td>\n",
       "      <td>http://sharkattackfile.net/spreadsheets/pdf_di...</td>\n",
       "      <td>http://sharkattackfile.net/spreadsheets/pdf_di...</td>\n",
       "      <td>2018.06.09</td>\n",
       "      <td>2018.06.09</td>\n",
       "      <td>6301.0</td>\n",
       "      <td>NaN</td>\n",
       "      <td>NaN</td>\n",
       "    </tr>\n",
       "    <tr>\n",
       "      <th>3</th>\n",
       "      <td>2018.06.08</td>\n",
       "      <td>08-Jun-2018</td>\n",
       "      <td>2018.0</td>\n",
       "      <td>Unprovoked</td>\n",
       "      <td>AUSTRALIA</td>\n",
       "      <td>New South Wales</td>\n",
       "      <td>Arrawarra Headland</td>\n",
       "      <td>Surfing</td>\n",
       "      <td>male</td>\n",
       "      <td>M</td>\n",
       "      <td>...</td>\n",
       "      <td>2 m shark</td>\n",
       "      <td>B. Myatt, GSAF</td>\n",
       "      <td>2018.06.08-Arrawarra.pdf</td>\n",
       "      <td>http://sharkattackfile.net/spreadsheets/pdf_di...</td>\n",
       "      <td>http://sharkattackfile.net/spreadsheets/pdf_di...</td>\n",
       "      <td>2018.06.08</td>\n",
       "      <td>2018.06.08</td>\n",
       "      <td>6300.0</td>\n",
       "      <td>NaN</td>\n",
       "      <td>NaN</td>\n",
       "    </tr>\n",
       "    <tr>\n",
       "      <th>4</th>\n",
       "      <td>2018.06.04</td>\n",
       "      <td>04-Jun-2018</td>\n",
       "      <td>2018.0</td>\n",
       "      <td>Provoked</td>\n",
       "      <td>MEXICO</td>\n",
       "      <td>Colima</td>\n",
       "      <td>La Ticla</td>\n",
       "      <td>Free diving</td>\n",
       "      <td>Gustavo Ramos</td>\n",
       "      <td>M</td>\n",
       "      <td>...</td>\n",
       "      <td>Tiger shark, 3m</td>\n",
       "      <td>A .Kipper</td>\n",
       "      <td>2018.06.04-Ramos.pdf</td>\n",
       "      <td>http://sharkattackfile.net/spreadsheets/pdf_di...</td>\n",
       "      <td>http://sharkattackfile.net/spreadsheets/pdf_di...</td>\n",
       "      <td>2018.06.04</td>\n",
       "      <td>2018.06.04</td>\n",
       "      <td>6299.0</td>\n",
       "      <td>NaN</td>\n",
       "      <td>NaN</td>\n",
       "    </tr>\n",
       "  </tbody>\n",
       "</table>\n",
       "<p>5 rows × 24 columns</p>\n",
       "</div>"
      ],
      "text/plain": [
       "  case_number         date    year        type    country             area  \\\n",
       "0  2018.06.25  25-Jun-2018  2018.0     Boating        USA       California   \n",
       "1  2018.06.18  18-Jun-2018  2018.0  Unprovoked        USA          Georgia   \n",
       "2  2018.06.09  09-Jun-2018  2018.0     Invalid        USA           Hawaii   \n",
       "3  2018.06.08  08-Jun-2018  2018.0  Unprovoked  AUSTRALIA  New South Wales   \n",
       "4  2018.06.04  04-Jun-2018  2018.0    Provoked     MEXICO           Colima   \n",
       "\n",
       "                         location     activity             name sex_  ...  \\\n",
       "0     Oceanside, San Diego County     Paddling      Julie Wolfe    F  ...   \n",
       "1  St. Simon Island, Glynn County     Standing  Adyson McNeely     F  ...   \n",
       "2                    Habush, Oahu      Surfing      John Denges    M  ...   \n",
       "3              Arrawarra Headland      Surfing             male    M  ...   \n",
       "4                        La Ticla  Free diving   Gustavo Ramos     M  ...   \n",
       "\n",
       "          species_          investigator_or_source                       pdf  \\\n",
       "0      White shark                R. Collier, GSAF      2018.06.25-Wolfe.pdf   \n",
       "1              NaN  K.McMurray, TrackingSharks.com    2018.06.18-McNeely.pdf   \n",
       "2              NaN  K.McMurray, TrackingSharks.com     2018.06.09-Denges.pdf   \n",
       "3        2 m shark                  B. Myatt, GSAF  2018.06.08-Arrawarra.pdf   \n",
       "4  Tiger shark, 3m                       A .Kipper      2018.06.04-Ramos.pdf   \n",
       "\n",
       "                                        href_formula  \\\n",
       "0  http://sharkattackfile.net/spreadsheets/pdf_di...   \n",
       "1  http://sharkattackfile.net/spreadsheets/pdf_di...   \n",
       "2  http://sharkattackfile.net/spreadsheets/pdf_di...   \n",
       "3  http://sharkattackfile.net/spreadsheets/pdf_di...   \n",
       "4  http://sharkattackfile.net/spreadsheets/pdf_di...   \n",
       "\n",
       "                                                href case_number_1  \\\n",
       "0  http://sharkattackfile.net/spreadsheets/pdf_di...    2018.06.25   \n",
       "1  http://sharkattackfile.net/spreadsheets/pdf_di...    2018.06.18   \n",
       "2  http://sharkattackfile.net/spreadsheets/pdf_di...    2018.06.09   \n",
       "3  http://sharkattackfile.net/spreadsheets/pdf_di...    2018.06.08   \n",
       "4  http://sharkattackfile.net/spreadsheets/pdf_di...    2018.06.04   \n",
       "\n",
       "  case_number_2 original_order unnamed_22 unnamed_23  \n",
       "0    2018.06.25         6303.0        NaN        NaN  \n",
       "1    2018.06.18         6302.0        NaN        NaN  \n",
       "2    2018.06.09         6301.0        NaN        NaN  \n",
       "3    2018.06.08         6300.0        NaN        NaN  \n",
       "4    2018.06.04         6299.0        NaN        NaN  \n",
       "\n",
       "[5 rows x 24 columns]"
      ]
     },
     "execution_count": 5,
     "metadata": {},
     "output_type": "execute_result"
    }
   ],
   "source": [
    "data.head(5)"
   ]
  },
  {
   "cell_type": "code",
   "execution_count": 8,
   "id": "38db0526",
   "metadata": {
    "ExecuteTime": {
     "end_time": "2022-08-22T13:37:11.729650Z",
     "start_time": "2022-08-22T13:37:11.720658Z"
    }
   },
   "outputs": [
    {
     "data": {
      "text/plain": [
       "(25723, 24)"
      ]
     },
     "execution_count": 8,
     "metadata": {},
     "output_type": "execute_result"
    }
   ],
   "source": [
    "data.shape"
   ]
  },
  {
   "cell_type": "code",
   "execution_count": 9,
   "id": "b49727ea",
   "metadata": {
    "ExecuteTime": {
     "end_time": "2022-08-22T13:37:13.147462Z",
     "start_time": "2022-08-22T13:37:13.130474Z"
    }
   },
   "outputs": [
    {
     "data": {
      "text/plain": [
       "0           Boating\n",
       "1        Unprovoked\n",
       "2           Invalid\n",
       "3        Unprovoked\n",
       "4          Provoked\n",
       "            ...    \n",
       "25718           NaN\n",
       "25719           NaN\n",
       "25720           NaN\n",
       "25721           NaN\n",
       "25722           NaN\n",
       "Name: type, Length: 25723, dtype: object"
      ]
     },
     "execution_count": 9,
     "metadata": {},
     "output_type": "execute_result"
    }
   ],
   "source": [
    "data['type']"
   ]
  },
  {
   "cell_type": "code",
   "execution_count": 10,
   "id": "bf0e20f7",
   "metadata": {
    "ExecuteTime": {
     "end_time": "2022-08-22T13:37:15.479951Z",
     "start_time": "2022-08-22T13:37:15.292067Z"
    }
   },
   "outputs": [
    {
     "data": {
      "text/plain": [
       "case_number               17021\n",
       "date                      19421\n",
       "year                      19423\n",
       "type                      19425\n",
       "country                   19471\n",
       "area                      19876\n",
       "location                  19961\n",
       "activity                  19965\n",
       "name                      19631\n",
       "sex_                      19986\n",
       "age                       22252\n",
       "injury                    19449\n",
       "fatal_(y/n)               19960\n",
       "time                      22775\n",
       "species_                  22259\n",
       "investigator_or_source    19438\n",
       "pdf                       19421\n",
       "href_formula              19422\n",
       "href                      19421\n",
       "case_number_1             19421\n",
       "case_number_2             19421\n",
       "original_order            19414\n",
       "unnamed_22                25722\n",
       "unnamed_23                25721\n",
       "dtype: int64"
      ]
     },
     "execution_count": 10,
     "metadata": {},
     "output_type": "execute_result"
    }
   ],
   "source": [
    "data.isnull().sum()"
   ]
  },
  {
   "cell_type": "markdown",
   "id": "d245ef70",
   "metadata": {},
   "source": [
    "# Removendo Duplicatas"
   ]
  },
  {
   "cell_type": "code",
   "execution_count": 11,
   "id": "de1beec5",
   "metadata": {
    "ExecuteTime": {
     "end_time": "2022-08-22T13:37:19.358659Z",
     "start_time": "2022-08-22T13:37:19.175772Z"
    }
   },
   "outputs": [
    {
     "data": {
      "text/plain": [
       "0.325176446344856"
      ]
     },
     "execution_count": 11,
     "metadata": {},
     "output_type": "execute_result"
    }
   ],
   "source": [
    "sum(~data.duplicated())/sum(data.duplicated())"
   ]
  },
  {
   "cell_type": "code",
   "execution_count": 12,
   "id": "de3392b5",
   "metadata": {
    "ExecuteTime": {
     "end_time": "2022-08-22T13:37:21.294721Z",
     "start_time": "2022-08-22T13:37:21.206776Z"
    }
   },
   "outputs": [],
   "source": [
    "data = data.loc[~data.duplicated(),]"
   ]
  },
  {
   "cell_type": "code",
   "execution_count": 13,
   "id": "f32ad4ec",
   "metadata": {
    "ExecuteTime": {
     "end_time": "2022-08-22T13:37:22.417735Z",
     "start_time": "2022-08-22T13:37:22.368767Z"
    }
   },
   "outputs": [
    {
     "data": {
      "text/plain": [
       "0"
      ]
     },
     "execution_count": 13,
     "metadata": {},
     "output_type": "execute_result"
    }
   ],
   "source": [
    "data.duplicated().sum()"
   ]
  },
  {
   "cell_type": "markdown",
   "id": "5ccb79d6",
   "metadata": {},
   "source": [
    "# Removendo colunas"
   ]
  },
  {
   "cell_type": "code",
   "execution_count": 14,
   "id": "9b5b08a8",
   "metadata": {
    "ExecuteTime": {
     "end_time": "2022-08-22T13:37:24.384888Z",
     "start_time": "2022-08-22T13:37:24.375896Z"
    }
   },
   "outputs": [
    {
     "data": {
      "text/plain": [
       "Index(['case_number', 'date', 'year', 'type', 'country', 'area', 'location',\n",
       "       'activity', 'name', 'sex_', 'age', 'injury', 'fatal_(y/n)', 'time',\n",
       "       'species_', 'investigator_or_source', 'pdf', 'href_formula', 'href',\n",
       "       'case_number_1', 'case_number_2', 'original_order', 'unnamed_22',\n",
       "       'unnamed_23'],\n",
       "      dtype='object')"
      ]
     },
     "execution_count": 14,
     "metadata": {},
     "output_type": "execute_result"
    }
   ],
   "source": [
    "data.columns"
   ]
  },
  {
   "cell_type": "code",
   "execution_count": 15,
   "id": "7d1f2b67",
   "metadata": {
    "ExecuteTime": {
     "end_time": "2022-08-22T13:37:29.147957Z",
     "start_time": "2022-08-22T13:37:29.135964Z"
    }
   },
   "outputs": [],
   "source": [
    "data = data.drop(['case_number', 'date', 'year', 'area', 'name','injury', 'time', 'investigator_or_source', 'pdf', 'href_formula', 'href', 'case_number_1', 'case_number_2', 'original_order', 'unnamed_22','unnamed_23'], axis = 1)"
   ]
  },
  {
   "cell_type": "markdown",
   "id": "ba0f9cad",
   "metadata": {
    "ExecuteTime": {
     "end_time": "2022-08-21T16:54:46.790565Z",
     "start_time": "2022-08-21T16:54:46.776010Z"
    }
   },
   "source": [
    "# Tratamento de dados"
   ]
  },
  {
   "cell_type": "markdown",
   "id": "ea03efd8",
   "metadata": {},
   "source": [
    "## Valores Ausentes"
   ]
  },
  {
   "cell_type": "code",
   "execution_count": 16,
   "id": "494d8fa6",
   "metadata": {
    "ExecuteTime": {
     "end_time": "2022-08-22T13:37:35.599917Z",
     "start_time": "2022-08-22T13:37:35.568933Z"
    }
   },
   "outputs": [
    {
     "data": {
      "text/plain": [
       "type             14\n",
       "country          60\n",
       "location        550\n",
       "activity        554\n",
       "sex_            575\n",
       "age            2841\n",
       "fatal_(y/n)     549\n",
       "species_       2848\n",
       "dtype: int64"
      ]
     },
     "execution_count": 16,
     "metadata": {},
     "output_type": "execute_result"
    }
   ],
   "source": [
    "data.isna().sum()"
   ]
  },
  {
   "cell_type": "code",
   "execution_count": 17,
   "id": "7dbd8d97",
   "metadata": {
    "ExecuteTime": {
     "end_time": "2022-08-22T13:37:37.523333Z",
     "start_time": "2022-08-22T13:37:37.488354Z"
    }
   },
   "outputs": [
    {
     "name": "stdout",
     "output_type": "stream",
     "text": [
      "<class 'pandas.core.frame.DataFrame'>\n",
      "Int64Index: 6312 entries, 0 to 25722\n",
      "Data columns (total 8 columns):\n",
      " #   Column       Non-Null Count  Dtype \n",
      "---  ------       --------------  ----- \n",
      " 0   type         6298 non-null   object\n",
      " 1   country      6252 non-null   object\n",
      " 2   location     5762 non-null   object\n",
      " 3   activity     5758 non-null   object\n",
      " 4   sex_         5737 non-null   object\n",
      " 5   age          3471 non-null   object\n",
      " 6   fatal_(y/n)  5763 non-null   object\n",
      " 7   species_     3464 non-null   object\n",
      "dtypes: object(8)\n",
      "memory usage: 443.8+ KB\n"
     ]
    }
   ],
   "source": [
    "data.info()"
   ]
  },
  {
   "cell_type": "code",
   "execution_count": 18,
   "id": "fbec4176",
   "metadata": {
    "ExecuteTime": {
     "end_time": "2022-08-22T13:37:41.523665Z",
     "start_time": "2022-08-22T13:37:41.495685Z"
    }
   },
   "outputs": [
    {
     "data": {
      "text/html": [
       "<div>\n",
       "<style scoped>\n",
       "    .dataframe tbody tr th:only-of-type {\n",
       "        vertical-align: middle;\n",
       "    }\n",
       "\n",
       "    .dataframe tbody tr th {\n",
       "        vertical-align: top;\n",
       "    }\n",
       "\n",
       "    .dataframe thead th {\n",
       "        text-align: right;\n",
       "    }\n",
       "</style>\n",
       "<table border=\"1\" class=\"dataframe\">\n",
       "  <thead>\n",
       "    <tr style=\"text-align: right;\">\n",
       "      <th></th>\n",
       "      <th>type</th>\n",
       "      <th>country</th>\n",
       "      <th>location</th>\n",
       "      <th>activity</th>\n",
       "      <th>sex_</th>\n",
       "      <th>age</th>\n",
       "      <th>fatal_(y/n)</th>\n",
       "      <th>species_</th>\n",
       "    </tr>\n",
       "  </thead>\n",
       "  <tbody>\n",
       "    <tr>\n",
       "      <th>0</th>\n",
       "      <td>Boating</td>\n",
       "      <td>USA</td>\n",
       "      <td>Oceanside, San Diego County</td>\n",
       "      <td>Paddling</td>\n",
       "      <td>F</td>\n",
       "      <td>57</td>\n",
       "      <td>N</td>\n",
       "      <td>White shark</td>\n",
       "    </tr>\n",
       "    <tr>\n",
       "      <th>1</th>\n",
       "      <td>Unprovoked</td>\n",
       "      <td>USA</td>\n",
       "      <td>St. Simon Island, Glynn County</td>\n",
       "      <td>Standing</td>\n",
       "      <td>F</td>\n",
       "      <td>11</td>\n",
       "      <td>N</td>\n",
       "      <td>NaN</td>\n",
       "    </tr>\n",
       "    <tr>\n",
       "      <th>2</th>\n",
       "      <td>Invalid</td>\n",
       "      <td>USA</td>\n",
       "      <td>Habush, Oahu</td>\n",
       "      <td>Surfing</td>\n",
       "      <td>M</td>\n",
       "      <td>48</td>\n",
       "      <td>N</td>\n",
       "      <td>NaN</td>\n",
       "    </tr>\n",
       "    <tr>\n",
       "      <th>3</th>\n",
       "      <td>Unprovoked</td>\n",
       "      <td>AUSTRALIA</td>\n",
       "      <td>Arrawarra Headland</td>\n",
       "      <td>Surfing</td>\n",
       "      <td>M</td>\n",
       "      <td>NaN</td>\n",
       "      <td>N</td>\n",
       "      <td>2 m shark</td>\n",
       "    </tr>\n",
       "    <tr>\n",
       "      <th>4</th>\n",
       "      <td>Provoked</td>\n",
       "      <td>MEXICO</td>\n",
       "      <td>La Ticla</td>\n",
       "      <td>Free diving</td>\n",
       "      <td>M</td>\n",
       "      <td>NaN</td>\n",
       "      <td>N</td>\n",
       "      <td>Tiger shark, 3m</td>\n",
       "    </tr>\n",
       "  </tbody>\n",
       "</table>\n",
       "</div>"
      ],
      "text/plain": [
       "         type    country                        location     activity sex_  \\\n",
       "0     Boating        USA     Oceanside, San Diego County     Paddling    F   \n",
       "1  Unprovoked        USA  St. Simon Island, Glynn County     Standing    F   \n",
       "2     Invalid        USA                    Habush, Oahu      Surfing    M   \n",
       "3  Unprovoked  AUSTRALIA              Arrawarra Headland      Surfing    M   \n",
       "4    Provoked     MEXICO                        La Ticla  Free diving    M   \n",
       "\n",
       "   age fatal_(y/n)         species_  \n",
       "0   57           N      White shark  \n",
       "1   11           N              NaN  \n",
       "2   48           N              NaN  \n",
       "3  NaN           N        2 m shark  \n",
       "4  NaN           N  Tiger shark, 3m  "
      ]
     },
     "execution_count": 18,
     "metadata": {},
     "output_type": "execute_result"
    }
   ],
   "source": [
    "data.head()"
   ]
  },
  {
   "cell_type": "markdown",
   "id": "13780695",
   "metadata": {},
   "source": [
    "## Valores coluna por sexo"
   ]
  },
  {
   "cell_type": "code",
   "execution_count": 19,
   "id": "d88f3275",
   "metadata": {
    "ExecuteTime": {
     "end_time": "2022-08-22T13:37:45.713808Z",
     "start_time": "2022-08-22T13:37:45.702818Z"
    }
   },
   "outputs": [
    {
     "data": {
      "text/plain": [
       "array(['F', 'M', nan, 'M ', 'lli', 'N', '.'], dtype=object)"
      ]
     },
     "execution_count": 19,
     "metadata": {},
     "output_type": "execute_result"
    }
   ],
   "source": [
    "data['sex_'].unique()"
   ]
  },
  {
   "cell_type": "code",
   "execution_count": 20,
   "id": "28215d49",
   "metadata": {
    "ExecuteTime": {
     "end_time": "2022-08-22T13:37:48.984402Z",
     "start_time": "2022-08-22T13:37:48.975411Z"
    }
   },
   "outputs": [
    {
     "data": {
      "text/plain": [
       "6312"
      ]
     },
     "execution_count": 20,
     "metadata": {},
     "output_type": "execute_result"
    }
   ],
   "source": [
    "len(data['sex_'])"
   ]
  },
  {
   "cell_type": "code",
   "execution_count": null,
   "id": "bb3bbc2d",
   "metadata": {
    "ExecuteTime": {
     "end_time": "2022-08-22T12:49:10.749573Z",
     "start_time": "2022-08-22T12:49:10.677615Z"
    }
   },
   "outputs": [],
   "source": [
    "data['sex_'].value_counts()"
   ]
  },
  {
   "cell_type": "code",
   "execution_count": null,
   "id": "ee771690",
   "metadata": {
    "ExecuteTime": {
     "end_time": "2022-08-22T12:48:44.729799Z",
     "start_time": "2022-08-22T12:48:44.678827Z"
    }
   },
   "outputs": [],
   "source": [
    "len(data['sex_'])"
   ]
  },
  {
   "cell_type": "code",
   "execution_count": null,
   "id": "bfcd534a",
   "metadata": {},
   "outputs": [],
   "source": [
    "def reference(x):\n",
    "    '''\n",
    "    Input: A string\n",
    "    Output: The string with references removed\n",
    "    \n",
    "    Example:\n",
    "    Input: 'lli'\n",
    "    Output: ''\n",
    "    '''\n",
    "    x = re.sub('{\\d*}','',x)\n",
    "    return x"
   ]
  },
  {
   "cell_type": "markdown",
   "id": "62bc8d83",
   "metadata": {},
   "source": [
    "## Valores por atividades"
   ]
  },
  {
   "cell_type": "code",
   "execution_count": null,
   "id": "47653919",
   "metadata": {
    "ExecuteTime": {
     "end_time": "2022-08-22T11:50:58.793390Z",
     "start_time": "2022-08-22T11:50:58.782397Z"
    }
   },
   "outputs": [],
   "source": [
    "data['activity'].isnull().sum()"
   ]
  },
  {
   "cell_type": "code",
   "execution_count": null,
   "id": "fd671b13",
   "metadata": {
    "ExecuteTime": {
     "end_time": "2022-08-22T11:51:02.890722Z",
     "start_time": "2022-08-22T11:51:02.861740Z"
    }
   },
   "outputs": [],
   "source": [
    "data.isnull().any() "
   ]
  },
  {
   "cell_type": "code",
   "execution_count": null,
   "id": "e528ea9c",
   "metadata": {
    "ExecuteTime": {
     "end_time": "2022-08-22T11:51:06.079249Z",
     "start_time": "2022-08-22T11:51:06.016289Z"
    }
   },
   "outputs": [],
   "source": [
    "data.isnull().all(axis=1)"
   ]
  },
  {
   "cell_type": "code",
   "execution_count": null,
   "id": "5791fc64",
   "metadata": {
    "ExecuteTime": {
     "end_time": "2022-08-22T11:51:08.556748Z",
     "start_time": "2022-08-22T11:51:08.543754Z"
    }
   },
   "outputs": [],
   "source": [
    "data['activity'].isnull().value_counts()"
   ]
  },
  {
   "cell_type": "code",
   "execution_count": null,
   "id": "691761c4",
   "metadata": {
    "ExecuteTime": {
     "end_time": "2022-08-22T11:51:13.989126Z",
     "start_time": "2022-08-22T11:51:13.970137Z"
    }
   },
   "outputs": [],
   "source": [
    "data['activity'].isnull().value_counts(normalize=True)"
   ]
  },
  {
   "cell_type": "code",
   "execution_count": null,
   "id": "82f06b2c",
   "metadata": {
    "ExecuteTime": {
     "end_time": "2022-08-22T11:51:19.854392Z",
     "start_time": "2022-08-22T11:51:19.839403Z"
    }
   },
   "outputs": [],
   "source": [
    "data['activity'].value_counts()"
   ]
  },
  {
   "cell_type": "code",
   "execution_count": null,
   "id": "a8403297",
   "metadata": {
    "ExecuteTime": {
     "end_time": "2022-08-22T12:58:09.024121Z",
     "start_time": "2022-08-22T12:58:08.717298Z"
    }
   },
   "outputs": [],
   "source": [
    "def atualiza_activity(x):\n",
    "    try:\n",
    "        \n",
    "        import re\n",
    "        valor_x = x\n",
    "        data['activity_rename'] = data['activity']\n",
    "        activity_rename[\"[Ss][Ww][Ii][Mm]\"]='swimming'\n",
    "        activity_rename[\"[Ss][Uu][Rr][Ff]\"]='surfing'\n",
    "        activity_rename[\"[Ff][Ii][Ss][Hh]\"]='fishing'\n",
    "        activity_rename[\"[bB][Oo][Dd][Yy]\"]='body'\n",
    "        activity_rename[\"[Dd][Ii][Vv][Ii]\"]='diving'\n",
    "        activity_rename[\"[Bb][Aa][Tt][Hh]\"]='bathing'\n",
    "        activity_rename[\"[Ww][Aa][Dd][Ii]\"]='wading'\n",
    "        activity_rename[\"[Ss][Tt][Aa][Nn]\"]='standing'\n",
    "                              \n",
    "        for i in activity_rename.keys():\n",
    "            match = re.search(\"%s\" % i, x)\n",
    "          \n",
    "            if match != None:\n",
    "       \n",
    "                valor_x = activity_rename[i]\n",
    "            \n",
    "        return valor_x\n",
    "          \n",
    "   \n",
    "    except ValueError as e:\n",
    "        return np.nan"
   ]
  },
  {
   "cell_type": "code",
   "execution_count": null,
   "id": "5011b0cc",
   "metadata": {
    "ExecuteTime": {
     "end_time": "2022-08-22T11:51:32.773141Z",
     "start_time": "2022-08-22T11:51:32.759148Z"
    }
   },
   "outputs": [],
   "source": [
    "data['activity'].value_counts()"
   ]
  },
  {
   "cell_type": "code",
   "execution_count": null,
   "id": "e875b8d2",
   "metadata": {
    "ExecuteTime": {
     "end_time": "2022-08-22T11:52:17.212771Z",
     "start_time": "2022-08-22T11:52:17.196783Z"
    }
   },
   "outputs": [],
   "source": [
    "data['activity'].value_counts()"
   ]
  },
  {
   "cell_type": "markdown",
   "id": "77a83a10",
   "metadata": {},
   "source": [
    "## Tipos de incidentes e sua classificação:\n",
    "\n",
    "#### Não provocado - Quando um tubarão percebe um humano como uma ameaça ou concorrente de uma fonte de alimento\n",
    "\n",
    "#### Provocado - GSAF define um incidente provocado como aquele em que o tubarão foi espetado, fisgado, capturado ou em que um humano tirou o \"primeiro sangue\"\n",
    "\n",
    "#### Incidentes envolvendo embarcações – Incidentes em que um barco foi mordido ou abalroado por um tubarão . No entanto, há casos em que o tubarão foi fisgado, apanhado com rede ou arpejado, são classificados como incidentes provocados.\n",
    "\n",
    "#### Incidentes questionáveis - Incidentes em que não há dados suficientes para determinar se a lesão foi causada por um tubarão ou a pessoa se afogou e o corpo foi posteriormente recuperado por tubarões. \n"
   ]
  },
  {
   "cell_type": "code",
   "execution_count": null,
   "id": "40ef06be",
   "metadata": {
    "ExecuteTime": {
     "end_time": "2022-08-22T11:52:32.511354Z",
     "start_time": "2022-08-22T11:52:32.495365Z"
    }
   },
   "outputs": [],
   "source": [
    "#Registro de incidentes: Não provocado / Provocado / inválido / Desastre Marinho / Passeio de barco / Barco /Questionável / Boatomg 1 \n",
    "data.value_counts(\"type\")"
   ]
  },
  {
   "cell_type": "code",
   "execution_count": null,
   "id": "fac0a0d2",
   "metadata": {},
   "outputs": [],
   "source": []
  }
 ],
 "metadata": {
  "kernelspec": {
   "display_name": "Python 3 (ipykernel)",
   "language": "python",
   "name": "python3"
  },
  "language_info": {
   "codemirror_mode": {
    "name": "ipython",
    "version": 3
   },
   "file_extension": ".py",
   "mimetype": "text/x-python",
   "name": "python",
   "nbconvert_exporter": "python",
   "pygments_lexer": "ipython3",
   "version": "3.9.12"
  },
  "nbTranslate": {
   "displayLangs": [
    "*"
   ],
   "hotkey": "alt-t",
   "langInMainMenu": true,
   "sourceLang": "en",
   "targetLang": "fr",
   "useGoogleTranslate": true
  },
  "toc": {
   "base_numbering": 1,
   "nav_menu": {},
   "number_sections": true,
   "sideBar": true,
   "skip_h1_title": false,
   "title_cell": "Table of Contents",
   "title_sidebar": "Contents",
   "toc_cell": false,
   "toc_position": {},
   "toc_section_display": true,
   "toc_window_display": false
  },
  "varInspector": {
   "cols": {
    "lenName": 16,
    "lenType": 16,
    "lenVar": 40
   },
   "kernels_config": {
    "python": {
     "delete_cmd_postfix": "",
     "delete_cmd_prefix": "del ",
     "library": "var_list.py",
     "varRefreshCmd": "print(var_dic_list())"
    },
    "r": {
     "delete_cmd_postfix": ") ",
     "delete_cmd_prefix": "rm(",
     "library": "var_list.r",
     "varRefreshCmd": "cat(var_dic_list()) "
    }
   },
   "types_to_exclude": [
    "module",
    "function",
    "builtin_function_or_method",
    "instance",
    "_Feature"
   ],
   "window_display": false
  }
 },
 "nbformat": 4,
 "nbformat_minor": 5
}
